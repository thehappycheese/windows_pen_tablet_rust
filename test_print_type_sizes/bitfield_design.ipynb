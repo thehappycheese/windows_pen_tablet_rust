{
 "cells": [
  {
   "cell_type": "markdown",
   "metadata": {},
   "source": [
    "# Bitfield\n",
    "\n",
    "Pretty-Print / review the binary values of the `WTPKT` bit masks (`PK_*` identifiers) used to configure \n",
    "`PACKETDATA` and `PACKETMODE` as `OR`ed combinations of `WTPKT`"
   ]
  },
  {
   "cell_type": "code",
   "execution_count": null,
   "metadata": {},
   "outputs": [],
   "source": [
    "def print_nice(name:str, type:str, flags:dict):\n",
    "    # strip prefix\n",
    "    flags = {key.removeprefix(f\"{name}_\"):value for key, value in flags.items()}\n",
    "    max_width = max(*[len(key) for key in flags.keys()])\n",
    "    max_bits = max(*[len(bin(value)) for value in flags.values()])\n",
    "    print(\"bitflags! {\")\n",
    "    print(\"    #[repr(C)]\")\n",
    "    print(\"    #[derive(Debug, Clone, Copy, PartialEq, Eq)]\")\n",
    "    print(f\"    pub struct {name}:{type} {{\")\n",
    "    for key, value in flags.items():\n",
    "        print(f\"        const {key:>{max_width}} = 0b{value:0>{max_bits-2}b};\")\n",
    "    print(\"    }\")\n",
    "    print(\"}\")"
   ]
  },
  {
   "cell_type": "code",
   "execution_count": null,
   "metadata": {},
   "outputs": [],
   "source": [
    "# Note, originally had `PK_` prefix, but i have changed it to `WTPKT` for consistency with the type name.\n",
    "print_nice(\"WTPKT\", \"DWORD\", {\n",
    "    \"CONTEXT\"          : 0x0001,\n",
    "    \"STATUS\"           : 0x0002,\n",
    "    \"TIME\"             : 0x0004,\n",
    "    \"CHANGED\"          : 0x0008,\n",
    "    \"SERIAL_NUMBER\"    : 0x0010,\n",
    "    \"CURSOR\"           : 0x0020,\n",
    "    \"BUTTONS\"          : 0x0040,\n",
    "    \"X\"                : 0x0080,\n",
    "    \"Y\"                : 0x0100,\n",
    "    \"Z\"                : 0x0200,\n",
    "    \"NORMAL_PRESSURE\"  : 0x0400,\n",
    "    \"TANGENT_PRESSURE\" : 0x0800,\n",
    "    \"ORIENTATION\"      : 0x1000,\n",
    "    \"ROTATION\"         : 0x2000,\n",
    "})"
   ]
  },
  {
   "cell_type": "code",
   "execution_count": null,
   "metadata": {},
   "outputs": [],
   "source": [
    "print_nice(\"HWC\",\"u32\",{\n",
    "    \"HWC_INTEGRATED\"     : 0x0001,\n",
    "    \"HWC_TOUCH\"          : 0x0002,\n",
    "    \"HWC_HARDPROX\"       : 0x0004,\n",
    "    \"HWC_PHYSID_CURSORS\" : 0x0008,\n",
    "})"
   ]
  },
  {
   "cell_type": "code",
   "execution_count": null,
   "metadata": {},
   "outputs": [],
   "source": [
    "print_nice(\"CRC\", \"u32\", {\n",
    "    \"CRC_MULTIMODE\" : 1,\n",
    "    \"CRC_AGGREGATE\" : 2,\n",
    "    \"CRC_INVERT\"    : 4,\n",
    "})"
   ]
  },
  {
   "cell_type": "code",
   "execution_count": null,
   "metadata": {},
   "outputs": [],
   "source": [
    "print_nice(\"CXO\", \"u32\", {\n",
    "    \"CXO_SYSTEM\"      : 0x0001,\n",
    "    \"CXO_PEN\"         : 0x0002,\n",
    "    \"CXO_MESSAGES\"    : 0x0004,\n",
    "    \"CXO_MARGIN\"      : 0x8000,\n",
    "    \"CXO_MGNINSIDE\"   : 0x4000,\n",
    "    \"CXO_CSRMESSAGES\" : 0x0008,\n",
    "})\n",
    "print_nice(\"CXS\", \"u32\", {\n",
    "    \"CXS_DISABLED\"    : 0x0001,\n",
    "    \"CXS_OBSCURED\"    : 0x0002,\n",
    "    \"CXS_ONTOP\"       : 0x0004,\n",
    "})\n",
    "print_nice(\"CXL\", \"u32\", {\n",
    "    \"CXL_INSIZE\"      : 0x0001,\n",
    "    \"CXL_INASPECT\"    : 0x0002,\n",
    "    \"CXL_SENSITIVITY\" : 0x0004,\n",
    "    \"CXL_MARGIN\"      : 0x0008,\n",
    "    \"CXL_SYSOUT\"      : 0x0010,\n",
    "})"
   ]
  },
  {
   "cell_type": "code",
   "execution_count": null,
   "metadata": {},
   "outputs": [],
   "source": [
    "print_nice(\"TPS\", \"UINT\", {\n",
    "    \"TPS_PROXIMITY\" : 0x0001,\n",
    "    \"TPS_QUEUE_ERR\" : 0x0002,\n",
    "    \"TPS_MARGIN\"    : 0x0004,\n",
    "    \"TPS_GRAB\"      : 0x0008,\n",
    "    \"TPS_INVERT\"    : 0x0010,\n",
    "})\n"
   ]
  },
  {
   "cell_type": "code",
   "execution_count": null,
   "metadata": {},
   "outputs": [],
   "source": []
  }
 ],
 "metadata": {
  "kernelspec": {
   "display_name": "Python 3",
   "language": "python",
   "name": "python3"
  },
  "language_info": {
   "codemirror_mode": {
    "name": "ipython",
    "version": 3
   },
   "file_extension": ".py",
   "mimetype": "text/x-python",
   "name": "python",
   "nbconvert_exporter": "python",
   "pygments_lexer": "ipython3",
   "version": "3.12.2"
  }
 },
 "nbformat": 4,
 "nbformat_minor": 2
}
