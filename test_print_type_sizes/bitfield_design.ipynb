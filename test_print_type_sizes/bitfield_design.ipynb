{
 "cells": [
  {
   "cell_type": "markdown",
   "metadata": {},
   "source": [
    "# Bitfield\n",
    "\n",
    "Pretty-Print / review the binary values of the `WTPKT` bit masks (`PK_*` identifiers) used to configure \n",
    "`PACKETDATA` and `PACKETMODE` as `OR`ed combinations of `WTPKT`"
   ]
  },
  {
   "cell_type": "code",
   "execution_count": 7,
   "metadata": {},
   "outputs": [],
   "source": [
    "def print_nice(flags:dict):\n",
    "    max_width = max(*[len(key) for key in flags.keys()])\n",
    "    max_bits = max(*[len(bin(value)) for value in flags.values()])\n",
    "    for key, value in flags.items():\n",
    "        print(f\"const {key:>{max_width}} = 0b{value:0>{max_bits-2}b};\")"
   ]
  },
  {
   "cell_type": "code",
   "execution_count": 8,
   "metadata": {},
   "outputs": [
    {
     "name": "stdout",
     "output_type": "stream",
     "text": [
      "const          PK_CONTEXT = 0b00000000000001;\n",
      "const           PK_STATUS = 0b00000000000010;\n",
      "const             PK_TIME = 0b00000000000100;\n",
      "const          PK_CHANGED = 0b00000000001000;\n",
      "const    PK_SERIAL_NUMBER = 0b00000000010000;\n",
      "const           PK_CURSOR = 0b00000000100000;\n",
      "const          PK_BUTTONS = 0b00000001000000;\n",
      "const                PK_X = 0b00000010000000;\n",
      "const                PK_Y = 0b00000100000000;\n",
      "const                PK_Z = 0b00001000000000;\n",
      "const  PK_NORMAL_PRESSURE = 0b00010000000000;\n",
      "const PK_TANGENT_PRESSURE = 0b00100000000000;\n",
      "const      PK_ORIENTATION = 0b01000000000000;\n",
      "const         PK_ROTATION = 0b10000000000000;\n"
     ]
    }
   ],
   "source": [
    "print_nice({\n",
    "    \"PK_CONTEXT\"          : 0x0001,\n",
    "    \"PK_STATUS\"           : 0x0002,\n",
    "    \"PK_TIME\"             : 0x0004,\n",
    "    \"PK_CHANGED\"          : 0x0008,\n",
    "    \"PK_SERIAL_NUMBER\"    : 0x0010,\n",
    "    \"PK_CURSOR\"           : 0x0020,\n",
    "    \"PK_BUTTONS\"          : 0x0040,\n",
    "    \"PK_X\"                : 0x0080,\n",
    "    \"PK_Y\"                : 0x0100,\n",
    "    \"PK_Z\"                : 0x0200,\n",
    "    \"PK_NORMAL_PRESSURE\"  : 0x0400,\n",
    "    \"PK_TANGENT_PRESSURE\" : 0x0800,\n",
    "    \"PK_ORIENTATION\"      : 0x1000,\n",
    "    \"PK_ROTATION\"         : 0x2000,\n",
    "})"
   ]
  },
  {
   "cell_type": "code",
   "execution_count": 9,
   "metadata": {},
   "outputs": [
    {
     "name": "stdout",
     "output_type": "stream",
     "text": [
      "const     HWC_INTEGRATED = 0b0001;\n",
      "const          HWC_TOUCH = 0b0010;\n",
      "const       HWC_HARDPROX = 0b0100;\n",
      "const HWC_PHYSID_CURSORS = 0b1000;\n"
     ]
    }
   ],
   "source": [
    "print_nice({\n",
    "    \"HWC_INTEGRATED\"     : 0x0001,\n",
    "    \"HWC_TOUCH\"          : 0x0002,\n",
    "    \"HWC_HARDPROX\"       : 0x0004,\n",
    "    \"HWC_PHYSID_CURSORS\" : 0x0008,\n",
    "})"
   ]
  },
  {
   "cell_type": "code",
   "execution_count": 10,
   "metadata": {},
   "outputs": [
    {
     "name": "stdout",
     "output_type": "stream",
     "text": [
      "const CRC_MULTIMODE = 0b001;\n",
      "const CRC_AGGREGATE = 0b010;\n",
      "const    CRC_INVERT = 0b100;\n"
     ]
    }
   ],
   "source": [
    "print_nice({\n",
    "    \"CRC_MULTIMODE\" : 1,\n",
    "    \"CRC_AGGREGATE\" : 2,\n",
    "    \"CRC_INVERT\"    : 4,\n",
    "})"
   ]
  }
 ],
 "metadata": {
  "kernelspec": {
   "display_name": "Python 3",
   "language": "python",
   "name": "python3"
  },
  "language_info": {
   "codemirror_mode": {
    "name": "ipython",
    "version": 3
   },
   "file_extension": ".py",
   "mimetype": "text/x-python",
   "name": "python",
   "nbconvert_exporter": "python",
   "pygments_lexer": "ipython3",
   "version": "3.12.2"
  }
 },
 "nbformat": 4,
 "nbformat_minor": 2
}
