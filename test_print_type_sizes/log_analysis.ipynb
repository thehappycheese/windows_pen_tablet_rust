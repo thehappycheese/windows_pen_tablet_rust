{
 "cells": [
  {
   "cell_type": "code",
   "execution_count": null,
   "metadata": {},
   "outputs": [],
   "source": [
    "from pathlib import Path\n",
    "import re\n",
    "import pandas as pd\n",
    "from matplotlib import colormaps\n",
    "from matplotlib.colors import rgb2hex\n",
    "from sklearn.preprocessing import MinMaxScaler\n",
    "from matplotlib.animation import FuncAnimation\n",
    "from matplotlib import pyplot as plt\n",
    "\n",
    "def column_to_color(series, scale=\"viridis\"):\n",
    "    smin = series.min()\n",
    "    smax = series.max()\n",
    "    norm = (series - smin) / (smax - smin)\n",
    "    cmap = colormaps[scale]\n",
    "    return norm.apply(lambda x: rgb2hex(cmap(x)))"
   ]
  },
  {
   "cell_type": "code",
   "execution_count": null,
   "metadata": {},
   "outputs": [],
   "source": [
    "data = Path(\"../wintab_lite/example/wintab_winit/run_output.log\").read_text(encoding=\"UTF-16 LE\")"
   ]
  },
  {
   "cell_type": "code",
   "execution_count": null,
   "metadata": {},
   "outputs": [],
   "source": [
    "print(data[2000:3100])"
   ]
  },
  {
   "cell_type": "code",
   "execution_count": null,
   "metadata": {},
   "outputs": [],
   "source": [
    "matches = re.findall(\n",
    "    r\"Packet \\{.*?\\},\\n\\}\",\n",
    "    data,\n",
    "    flags=re.DOTALL\n",
    ")\n",
    "df = pd.Series(matches)\n",
    "df"
   ]
  },
  {
   "cell_type": "code",
   "execution_count": null,
   "metadata": {},
   "outputs": [],
   "source": [
    "time = df.str.extract(f\"pkTime: (.*?),\", expand=False).astype(\"u8\").rename(\"time\")\n",
    "time\n"
   ]
  },
  {
   "cell_type": "code",
   "execution_count": null,
   "metadata": {},
   "outputs": [],
   "source": [
    "xy = df.str.extract(r\"xyz{ (.*?), (.*?), .*? }\")\n",
    "xy.columns = [\"x\", \"y\"]\n",
    "xy = xy.astype(\"i4\")\n",
    "xy"
   ]
  },
  {
   "cell_type": "code",
   "execution_count": null,
   "metadata": {},
   "outputs": [],
   "source": [
    "pressure = df.str.extract(r\"pkNormalPressure: (.*?),\", expand=False).astype(\"i4\").rename(\"pressure\")\n",
    "pressure"
   ]
  },
  {
   "cell_type": "code",
   "execution_count": null,
   "metadata": {},
   "outputs": [],
   "source": [
    "cdf = pd.concat([xy, time, pressure],axis=\"columns\")\n",
    "cdf=cdf[cdf[\"pressure\"]>0]\n",
    "cdf[[\"time\",\"pressure\"]] = MinMaxScaler().fit_transform(cdf[[\"time\",\"pressure\"]])\n",
    "cdf.plot.scatter(x=\"x\",y=\"y\",c=column_to_color(cdf[\"time\"]), s=cdf[\"pressure\"]*20)"
   ]
  },
  {
   "cell_type": "code",
   "execution_count": null,
   "metadata": {},
   "outputs": [],
   "source": [
    "cdf = pd.concat([xy, time, pressure],axis=\"columns\")\n",
    "cdf=cdf[cdf[\"pressure\"]>0]\n",
    "cdf[[\"pressure\"]] = MinMaxScaler().fit_transform(cdf[[\"pressure\"]])\n",
    "cdf[\"time\"] -= cdf[\"time\"].min()"
   ]
  },
  {
   "cell_type": "code",
   "execution_count": null,
   "metadata": {},
   "outputs": [],
   "source": [
    "cdf[\"time\"].min(), cdf[\"time\"].max()"
   ]
  },
  {
   "cell_type": "code",
   "execution_count": null,
   "metadata": {},
   "outputs": [],
   "source": [
    "cdf.set_index(\"time\")"
   ]
  },
  {
   "cell_type": "code",
   "execution_count": null,
   "metadata": {},
   "outputs": [],
   "source": [
    "intervals = pd.interval_range(start=cdf[\"time\"].min(), end=cdf[\"time\"].max(), freq=10)\n",
    "intervals"
   ]
  },
  {
   "cell_type": "code",
   "execution_count": null,
   "metadata": {},
   "outputs": [],
   "source": [
    "frame_indexes = pd.Series(intervals).apply(lambda interval: cdf.index[cdf[\"time\"].apply(lambda time: time in interval)])"
   ]
  },
  {
   "cell_type": "code",
   "execution_count": null,
   "metadata": {},
   "outputs": [],
   "source": [
    "fig, ax = plt.subplots(figsize=(6,4))\n",
    "scatter = ax.scatter([],[], c=\"red\")\n",
    "\n",
    "\n",
    "def init():\n",
    "    ax.set_xlim(-2600, -1600)\n",
    "    ax.set_ylim(700, 1500)\n",
    "    return scatter,\n",
    "\n",
    "\n",
    "def update(frame_indexes):\n",
    "    print(frame_indexes)\n",
    "    if len(frame_indexes) == 0:\n",
    "        return\n",
    "    dat=cdf.loc[frame_indexes]\n",
    "    xy = dat.loc[:,[\"x\",\"y\"]].values\n",
    "    size = dat.loc[:,\"pressure\"].values*30\n",
    "    color = column_to_color(dat.loc[:,\"pressure\"]).values\n",
    "    scatter.set_offsets(xy)\n",
    "    scatter.set_sizes(size)\n",
    "    scatter.set_color(color)\n",
    "    return scatter,\n",
    "\n",
    "animation = FuncAnimation(\n",
    "    fig       = fig,\n",
    "    func      = update,\n",
    "    init_func = init,\n",
    "    frames    = frame_indexes,\n",
    "    interval  = 5\n",
    ")\n",
    "animation.save(\"animation.gif\", writer=\"pillow\")"
   ]
  }
 ],
 "metadata": {
  "kernelspec": {
   "display_name": "Python 3",
   "language": "python",
   "name": "python3"
  },
  "language_info": {
   "codemirror_mode": {
    "name": "ipython",
    "version": 3
   },
   "file_extension": ".py",
   "mimetype": "text/x-python",
   "name": "python",
   "nbconvert_exporter": "python",
   "pygments_lexer": "ipython3",
   "version": "3.12.2"
  }
 },
 "nbformat": 4,
 "nbformat_minor": 2
}
