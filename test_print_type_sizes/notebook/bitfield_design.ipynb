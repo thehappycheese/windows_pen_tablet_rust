{
 "cells": [
  {
   "cell_type": "markdown",
   "metadata": {},
   "source": [
    "# Bitfield\n",
    "\n",
    "Pretty-Print / review the binary values of the `WTPKT` bit masks (`PK_*` identifiers) used to configure \n",
    "`PACKETDATA` and `PACKETMODE` as `OR`ed combinations of `WTPKT`"
   ]
  },
  {
   "cell_type": "code",
   "execution_count": 1,
   "metadata": {},
   "outputs": [],
   "source": [
    "flags = {\n",
    "    \"PK_CONTEXT\"          : 0x0001,\n",
    "    \"PK_STATUS\"           : 0x0002,\n",
    "    \"PK_TIME\"             : 0x0004,\n",
    "    \"PK_CHANGED\"          : 0x0008,\n",
    "    \"PK_SERIAL_NUMBER\"    : 0x0010,\n",
    "    \"PK_CURSOR\"           : 0x0020,\n",
    "    \"PK_BUTTONS\"          : 0x0040,\n",
    "    \"PK_X\"                : 0x0080,\n",
    "    \"PK_Y\"                : 0x0100,\n",
    "    \"PK_Z\"                : 0x0200,\n",
    "    \"PK_NORMAL_PRESSURE\"  : 0x0400,\n",
    "    \"PK_TANGENT_PRESSURE\" : 0x0800,\n",
    "    \"PK_ORIENTATION\"      : 0x1000,\n",
    "    \"PK_ROTATION\"         : 0x2000,\n",
    "}"
   ]
  },
  {
   "cell_type": "code",
   "execution_count": 5,
   "metadata": {},
   "outputs": [
    {
     "name": "stdout",
     "output_type": "stream",
     "text": [
      "         PK_CONTEXT: 0000000000000001\n",
      "          PK_STATUS: 0000000000000010\n",
      "            PK_TIME: 0000000000000100\n",
      "         PK_CHANGED: 0000000000001000\n",
      "   PK_SERIAL_NUMBER: 0000000000010000\n",
      "          PK_CURSOR: 0000000000100000\n",
      "         PK_BUTTONS: 0000000001000000\n",
      "               PK_X: 0000000010000000\n",
      "               PK_Y: 0000000100000000\n",
      "               PK_Z: 0000001000000000\n",
      " PK_NORMAL_PRESSURE: 0000010000000000\n",
      "PK_TANGENT_PRESSURE: 0000100000000000\n",
      "     PK_ORIENTATION: 0001000000000000\n",
      "        PK_ROTATION: 0010000000000000\n"
     ]
    }
   ],
   "source": [
    "max_width = max(*[len(key) for key in flags.keys()])\n",
    "for key, value in flags.items():\n",
    "    print(f\"{key:>{max_width}}: {value:0>16b}\")"
   ]
  }
 ],
 "metadata": {
  "kernelspec": {
   "display_name": "Python 3",
   "language": "python",
   "name": "python3"
  },
  "language_info": {
   "codemirror_mode": {
    "name": "ipython",
    "version": 3
   },
   "file_extension": ".py",
   "mimetype": "text/x-python",
   "name": "python",
   "nbconvert_exporter": "python",
   "pygments_lexer": "ipython3",
   "version": "3.12.2"
  }
 },
 "nbformat": 4,
 "nbformat_minor": 2
}
